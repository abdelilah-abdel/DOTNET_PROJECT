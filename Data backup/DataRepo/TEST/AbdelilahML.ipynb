{
 "cells": [
  {
   "cell_type": "code",
   "execution_count": 3,
   "id": "e3851b9b",
   "metadata": {},
   "outputs": [],
   "source": [
    "import warnings\n",
    "warnings.filterwarnings('ignore')\n",
    "\n",
    "import os \n"
   ]
  },
  {
   "cell_type": "code",
   "execution_count": 4,
   "id": "282265db",
   "metadata": {},
   "outputs": [],
   "source": [
    "dir_Path = \"/home/abdel/Documents/DOTNET_Project/Data backup/DataRepo/TEST\"\n",
    "os.chdir(dir_Path)"
   ]
  },
  {
   "cell_type": "code",
   "execution_count": 5,
   "id": "89e6820f",
   "metadata": {},
   "outputs": [],
   "source": [
    "import pandas as pd \n",
    "\n",
    "Reviewdata = pd.read_csv('merged.csv')"
   ]
  },
  {
   "cell_type": "code",
   "execution_count": 6,
   "id": "cb7ce628",
   "metadata": {},
   "outputs": [
    {
     "data": {
      "text/plain": [
       "(30693, 5)"
      ]
     },
     "execution_count": 6,
     "metadata": {},
     "output_type": "execute_result"
    }
   ],
   "source": [
    "Reviewdata.shape"
   ]
  },
  {
   "cell_type": "code",
   "execution_count": 7,
   "id": "77eeba4e",
   "metadata": {},
   "outputs": [
    {
     "data": {
      "text/html": [
       "<div>\n",
       "<style scoped>\n",
       "    .dataframe tbody tr th:only-of-type {\n",
       "        vertical-align: middle;\n",
       "    }\n",
       "\n",
       "    .dataframe tbody tr th {\n",
       "        vertical-align: top;\n",
       "    }\n",
       "\n",
       "    .dataframe thead th {\n",
       "        text-align: right;\n",
       "    }\n",
       "</style>\n",
       "<table border=\"1\" class=\"dataframe\">\n",
       "  <thead>\n",
       "    <tr style=\"text-align: right;\">\n",
       "      <th></th>\n",
       "      <th>Review_date</th>\n",
       "      <th>Stars</th>\n",
       "      <th>ShortReview</th>\n",
       "      <th>Review</th>\n",
       "      <th>hotelName</th>\n",
       "    </tr>\n",
       "  </thead>\n",
       "  <tbody>\n",
       "    <tr>\n",
       "      <th>0</th>\n",
       "      <td>August 2015</td>\n",
       "      <td>5</td>\n",
       "      <td>fab</td>\n",
       "      <td>best ever place to go in the region. i recomme...</td>\n",
       "      <td>NaN</td>\n",
       "    </tr>\n",
       "    <tr>\n",
       "      <th>1</th>\n",
       "      <td>January 2015</td>\n",
       "      <td>4</td>\n",
       "      <td>Winter holiday</td>\n",
       "      <td>We stayed at this hotel for 17 days in January...</td>\n",
       "      <td>NaN</td>\n",
       "    </tr>\n",
       "    <tr>\n",
       "      <th>2</th>\n",
       "      <td>January 2023</td>\n",
       "      <td>5</td>\n",
       "      <td>Lovely winter sun holiday at a great hotel</td>\n",
       "      <td>We have just returned from Founty beach. We ha...</td>\n",
       "      <td>hotelName</td>\n",
       "    </tr>\n",
       "    <tr>\n",
       "      <th>3</th>\n",
       "      <td>August 2022</td>\n",
       "      <td>5</td>\n",
       "      <td>Great hotel and amazing staff</td>\n",
       "      <td>This is my third holiday in Agadir and I have ...</td>\n",
       "      <td>Iberostar_Founty_Beach</td>\n",
       "    </tr>\n",
       "    <tr>\n",
       "      <th>4</th>\n",
       "      <td>December 2022</td>\n",
       "      <td>5</td>\n",
       "      <td>In love with this Hotel!</td>\n",
       "      <td>Just back from a week stay for the New Year at...</td>\n",
       "      <td>Iberostar_Founty_Beach</td>\n",
       "    </tr>\n",
       "  </tbody>\n",
       "</table>\n",
       "</div>"
      ],
      "text/plain": [
       "      Review_date  Stars                                 ShortReview  \\\n",
       "0     August 2015      5                                         fab   \n",
       "1    January 2015      4                              Winter holiday   \n",
       "2    January 2023      5  Lovely winter sun holiday at a great hotel   \n",
       "3     August 2022      5               Great hotel and amazing staff   \n",
       "4   December 2022      5                    In love with this Hotel!   \n",
       "\n",
       "                                              Review               hotelName  \n",
       "0  best ever place to go in the region. i recomme...                     NaN  \n",
       "1  We stayed at this hotel for 17 days in January...                     NaN  \n",
       "2  We have just returned from Founty beach. We ha...               hotelName  \n",
       "3  This is my third holiday in Agadir and I have ...  Iberostar_Founty_Beach  \n",
       "4  Just back from a week stay for the New Year at...  Iberostar_Founty_Beach  "
      ]
     },
     "execution_count": 7,
     "metadata": {},
     "output_type": "execute_result"
    }
   ],
   "source": [
    "Reviewdata.head()"
   ]
  },
  {
   "cell_type": "code",
   "execution_count": 8,
   "id": "7bc5bb7d",
   "metadata": {},
   "outputs": [
    {
     "name": "stdout",
     "output_type": "stream",
     "text": [
      "<class 'pandas.core.frame.DataFrame'>\n",
      "RangeIndex: 30693 entries, 0 to 30692\n",
      "Data columns (total 5 columns):\n",
      " #   Column       Non-Null Count  Dtype \n",
      "---  ------       --------------  ----- \n",
      " 0   Review_date  30693 non-null  object\n",
      " 1   Stars        30693 non-null  int64 \n",
      " 2   ShortReview  30692 non-null  object\n",
      " 3   Review       30693 non-null  object\n",
      " 4   hotelName    29406 non-null  object\n",
      "dtypes: int64(1), object(4)\n",
      "memory usage: 1.2+ MB\n"
     ]
    }
   ],
   "source": [
    "Reviewdata.info()"
   ]
  },
  {
   "cell_type": "code",
   "execution_count": 9,
   "id": "4e67dcee",
   "metadata": {},
   "outputs": [
    {
     "data": {
      "text/html": [
       "<div>\n",
       "<style scoped>\n",
       "    .dataframe tbody tr th:only-of-type {\n",
       "        vertical-align: middle;\n",
       "    }\n",
       "\n",
       "    .dataframe tbody tr th {\n",
       "        vertical-align: top;\n",
       "    }\n",
       "\n",
       "    .dataframe thead th {\n",
       "        text-align: right;\n",
       "    }\n",
       "</style>\n",
       "<table border=\"1\" class=\"dataframe\">\n",
       "  <thead>\n",
       "    <tr style=\"text-align: right;\">\n",
       "      <th></th>\n",
       "      <th>count</th>\n",
       "      <th>mean</th>\n",
       "      <th>std</th>\n",
       "      <th>min</th>\n",
       "      <th>25%</th>\n",
       "      <th>50%</th>\n",
       "      <th>75%</th>\n",
       "      <th>max</th>\n",
       "    </tr>\n",
       "  </thead>\n",
       "  <tbody>\n",
       "    <tr>\n",
       "      <th>Stars</th>\n",
       "      <td>30693.0</td>\n",
       "      <td>4.427589</td>\n",
       "      <td>0.977765</td>\n",
       "      <td>1.0</td>\n",
       "      <td>4.0</td>\n",
       "      <td>5.0</td>\n",
       "      <td>5.0</td>\n",
       "      <td>5.0</td>\n",
       "    </tr>\n",
       "  </tbody>\n",
       "</table>\n",
       "</div>"
      ],
      "text/plain": [
       "         count      mean       std  min  25%  50%  75%  max\n",
       "Stars  30693.0  4.427589  0.977765  1.0  4.0  5.0  5.0  5.0"
      ]
     },
     "execution_count": 9,
     "metadata": {},
     "output_type": "execute_result"
    }
   ],
   "source": [
    "Reviewdata.describe().transpose()"
   ]
  },
  {
   "cell_type": "markdown",
   "id": "ece6a0a9",
   "metadata": {},
   "source": [
    "# DATA CLEANING "
   ]
  },
  {
   "cell_type": "code",
   "execution_count": 10,
   "id": "4cb855cf",
   "metadata": {},
   "outputs": [
    {
     "name": "stdout",
     "output_type": "stream",
     "text": [
      "count and percentage of missing values for columns\n"
     ]
    },
    {
     "data": {
      "text/html": [
       "<div>\n",
       "<style scoped>\n",
       "    .dataframe tbody tr th:only-of-type {\n",
       "        vertical-align: middle;\n",
       "    }\n",
       "\n",
       "    .dataframe tbody tr th {\n",
       "        vertical-align: top;\n",
       "    }\n",
       "\n",
       "    .dataframe thead th {\n",
       "        text-align: right;\n",
       "    }\n",
       "</style>\n",
       "<table border=\"1\" class=\"dataframe\">\n",
       "  <thead>\n",
       "    <tr style=\"text-align: right;\">\n",
       "      <th></th>\n",
       "      <th>count</th>\n",
       "      <th>percentage</th>\n",
       "    </tr>\n",
       "  </thead>\n",
       "  <tbody>\n",
       "    <tr>\n",
       "      <th>hotelName</th>\n",
       "      <td>1287</td>\n",
       "      <td>4.193139</td>\n",
       "    </tr>\n",
       "    <tr>\n",
       "      <th>ShortReview</th>\n",
       "      <td>1</td>\n",
       "      <td>0.003258</td>\n",
       "    </tr>\n",
       "    <tr>\n",
       "      <th>Review_date</th>\n",
       "      <td>0</td>\n",
       "      <td>0.000000</td>\n",
       "    </tr>\n",
       "    <tr>\n",
       "      <th>Stars</th>\n",
       "      <td>0</td>\n",
       "      <td>0.000000</td>\n",
       "    </tr>\n",
       "    <tr>\n",
       "      <th>Review</th>\n",
       "      <td>0</td>\n",
       "      <td>0.000000</td>\n",
       "    </tr>\n",
       "  </tbody>\n",
       "</table>\n",
       "</div>"
      ],
      "text/plain": [
       "             count  percentage\n",
       "hotelName     1287    4.193139\n",
       "ShortReview      1    0.003258\n",
       "Review_date      0    0.000000\n",
       "Stars            0    0.000000\n",
       "Review           0    0.000000"
      ]
     },
     "execution_count": 10,
     "metadata": {},
     "output_type": "execute_result"
    }
   ],
   "source": [
    "count = Reviewdata.isnull().sum().sort_values(ascending=False)\n",
    "percentage = ((Reviewdata.isnull()).sum()/len(Reviewdata)*100).sort_values(ascending=False)\n",
    "\n",
    "missing_data = pd.concat([count, percentage], axis=1, keys =['count','percentage'])\n",
    "print('count and percentage of missing values for columns')\n",
    "\n",
    "missing_data"
   ]
  },
  {
   "cell_type": "code",
   "execution_count": 11,
   "id": "5ecc6aa6",
   "metadata": {},
   "outputs": [],
   "source": [
    "Reviewdata.drop(columns=['Review_date','hotelName'], inplace=True)"
   ]
  },
  {
   "cell_type": "code",
   "execution_count": 12,
   "id": "3013692e",
   "metadata": {},
   "outputs": [
    {
     "name": "stdout",
     "output_type": "stream",
     "text": [
      "Percentage for default\n",
      "\n",
      "5    65.88\n",
      "4    20.26\n",
      "3     7.76\n",
      "1     3.17\n",
      "2     2.92\n",
      "Name: Stars, dtype: float64\n"
     ]
    },
    {
     "data": {
      "image/png": "[encoded data removed]",
      "text/plain": [
       "<Figure size 640x480 with 1 Axes>"
      ]
     },
     "metadata": {},
     "output_type": "display_data"
    }
   ],
   "source": [
    "##DATA CLEANING \n",
    "import matplotlib.pyplot as plt\n",
    "%matplotlib inline\n",
    "print('Percentage for default\\n')\n",
    "print(round(Reviewdata.Stars.value_counts(normalize=True)*100,2))\n",
    "round(Reviewdata.Stars.value_counts(normalize=True)*100,2).plot(kind='bar')\n",
    "plt.title('Percentage Distributions by review type')\n",
    "plt.show()\n"
   ]
  },
  {
   "cell_type": "code",
   "execution_count": 13,
   "id": "cb479a28",
   "metadata": {},
   "outputs": [],
   "source": [
    "# Apply first level cleaning\n",
    "import re\n",
    "import string\n",
    "\n",
    "#This function converts to lower-case, removes square bracket, removes numbers and punctuation\n",
    "def text_clean_1(text):\n",
    "    text = text.lower()\n",
    "    text = re.sub('\\[.*?\\]', '', text)\n",
    "    text = re.sub('[%s]' % re.escape(string.punctuation), '', text)\n",
    "    text = re.sub('\\w*\\d\\w*', '', text)\n",
    "    return text\n",
    "\n",
    "cleaned1 = lambda x: text_clean_1(x)"
   ]
  },
  {
   "cell_type": "code",
   "execution_count": 14,
   "id": "995b6dea",
   "metadata": {},
   "outputs": [
    {
     "data": {
      "text/html": [
       "<div>\n",
       "<style scoped>\n",
       "    .dataframe tbody tr th:only-of-type {\n",
       "        vertical-align: middle;\n",
       "    }\n",
       "\n",
       "    .dataframe tbody tr th {\n",
       "        vertical-align: top;\n",
       "    }\n",
       "\n",
       "    .dataframe thead th {\n",
       "        text-align: right;\n",
       "    }\n",
       "</style>\n",
       "<table border=\"1\" class=\"dataframe\">\n",
       "  <thead>\n",
       "    <tr style=\"text-align: right;\">\n",
       "      <th></th>\n",
       "      <th>Stars</th>\n",
       "      <th>ShortReview</th>\n",
       "      <th>Review</th>\n",
       "      <th>cleaned_Reviews</th>\n",
       "    </tr>\n",
       "  </thead>\n",
       "  <tbody>\n",
       "    <tr>\n",
       "      <th>0</th>\n",
       "      <td>5</td>\n",
       "      <td>fab</td>\n",
       "      <td>best ever place to go in the region. i recomme...</td>\n",
       "      <td>best ever place to go in the region i recommen...</td>\n",
       "    </tr>\n",
       "    <tr>\n",
       "      <th>1</th>\n",
       "      <td>4</td>\n",
       "      <td>Winter holiday</td>\n",
       "      <td>We stayed at this hotel for 17 days in January...</td>\n",
       "      <td>we stayed at this hotel for  days in january o...</td>\n",
       "    </tr>\n",
       "    <tr>\n",
       "      <th>2</th>\n",
       "      <td>5</td>\n",
       "      <td>Lovely winter sun holiday at a great hotel</td>\n",
       "      <td>We have just returned from Founty beach. We ha...</td>\n",
       "      <td>we have just returned from founty beach we had...</td>\n",
       "    </tr>\n",
       "    <tr>\n",
       "      <th>3</th>\n",
       "      <td>5</td>\n",
       "      <td>Great hotel and amazing staff</td>\n",
       "      <td>This is my third holiday in Agadir and I have ...</td>\n",
       "      <td>this is my third holiday in agadir and i have ...</td>\n",
       "    </tr>\n",
       "    <tr>\n",
       "      <th>4</th>\n",
       "      <td>5</td>\n",
       "      <td>In love with this Hotel!</td>\n",
       "      <td>Just back from a week stay for the New Year at...</td>\n",
       "      <td>just back from a week stay for the new year at...</td>\n",
       "    </tr>\n",
       "    <tr>\n",
       "      <th>5</th>\n",
       "      <td>5</td>\n",
       "      <td>Great hotel great staff</td>\n",
       "      <td>We are just coming to the end of our week holi...</td>\n",
       "      <td>we are just coming to the end of our week holi...</td>\n",
       "    </tr>\n",
       "    <tr>\n",
       "      <th>6</th>\n",
       "      <td>5</td>\n",
       "      <td>Best staff</td>\n",
       "      <td>Went to stay in this hotel for a week for a re...</td>\n",
       "      <td>went to stay in this hotel for a week for a re...</td>\n",
       "    </tr>\n",
       "    <tr>\n",
       "      <th>7</th>\n",
       "      <td>5</td>\n",
       "      <td>Holiday</td>\n",
       "      <td>We had a wonderful time at this hotel. Food wa...</td>\n",
       "      <td>we had a wonderful time at this hotel food was...</td>\n",
       "    </tr>\n",
       "    <tr>\n",
       "      <th>8</th>\n",
       "      <td>5</td>\n",
       "      <td>Friendly Staff, Lots to do!</td>\n",
       "      <td>I enjoyed my stay here last year in June. The ...</td>\n",
       "      <td>i enjoyed my stay here last year in june the f...</td>\n",
       "    </tr>\n",
       "    <tr>\n",
       "      <th>9</th>\n",
       "      <td>5</td>\n",
       "      <td>Holiday</td>\n",
       "      <td>Had the most amazing holiday at Iberostar Foun...</td>\n",
       "      <td>had the most amazing holiday at iberostar foun...</td>\n",
       "    </tr>\n",
       "  </tbody>\n",
       "</table>\n",
       "</div>"
      ],
      "text/plain": [
       "   Stars                                 ShortReview  \\\n",
       "0      5                                         fab   \n",
       "1      4                              Winter holiday   \n",
       "2      5  Lovely winter sun holiday at a great hotel   \n",
       "3      5               Great hotel and amazing staff   \n",
       "4      5                    In love with this Hotel!   \n",
       "5      5                     Great hotel great staff   \n",
       "6      5                                  Best staff   \n",
       "7      5                                     Holiday   \n",
       "8      5                 Friendly Staff, Lots to do!   \n",
       "9      5                                     Holiday   \n",
       "\n",
       "                                              Review  \\\n",
       "0  best ever place to go in the region. i recomme...   \n",
       "1  We stayed at this hotel for 17 days in January...   \n",
       "2  We have just returned from Founty beach. We ha...   \n",
       "3  This is my third holiday in Agadir and I have ...   \n",
       "4  Just back from a week stay for the New Year at...   \n",
       "5  We are just coming to the end of our week holi...   \n",
       "6  Went to stay in this hotel for a week for a re...   \n",
       "7  We had a wonderful time at this hotel. Food wa...   \n",
       "8  I enjoyed my stay here last year in June. The ...   \n",
       "9  Had the most amazing holiday at Iberostar Foun...   \n",
       "\n",
       "                                     cleaned_Reviews  \n",
       "0  best ever place to go in the region i recommen...  \n",
       "1  we stayed at this hotel for  days in january o...  \n",
       "2  we have just returned from founty beach we had...  \n",
       "3  this is my third holiday in agadir and i have ...  \n",
       "4  just back from a week stay for the new year at...  \n",
       "5  we are just coming to the end of our week holi...  \n",
       "6  went to stay in this hotel for a week for a re...  \n",
       "7  we had a wonderful time at this hotel food was...  \n",
       "8  i enjoyed my stay here last year in june the f...  \n",
       "9  had the most amazing holiday at iberostar foun...  "
      ]
     },
     "execution_count": 14,
     "metadata": {},
     "output_type": "execute_result"
    }
   ],
   "source": [
    "# Let's take a look at the updated text\n",
    "Reviewdata['cleaned_Reviews'] = pd.DataFrame(Reviewdata.Review.apply(cleaned1))\n",
    "Reviewdata.head(10)"
   ]
  },
  {
   "cell_type": "code",
   "execution_count": 15,
   "id": "47618f3c",
   "metadata": {},
   "outputs": [
    {
     "ename": "NameError",
     "evalue": "name 'cleaned2' is not defined",
     "output_type": "error",
     "traceback": [
      "\u001b[0;31m---------------------------------------------------------------------------\u001b[0m",
      "\u001b[0;31mNameError\u001b[0m                                 Traceback (most recent call last)",
      "Cell \u001b[0;32mIn[15], line 1\u001b[0m\n\u001b[0;32m----> 1\u001b[0m Reviewdata[\u001b[38;5;124m'\u001b[39m\u001b[38;5;124mcleaned_ShortReview\u001b[39m\u001b[38;5;124m'\u001b[39m] \u001b[38;5;241m=\u001b[39m pd\u001b[38;5;241m.\u001b[39mDataFrame(Reviewdata\u001b[38;5;241m.\u001b[39mShortReview\u001b[38;5;241m.\u001b[39mapply(\u001b[43mcleaned2\u001b[49m))\n\u001b[1;32m      2\u001b[0m Reviewdata\u001b[38;5;241m.\u001b[39mhead(\u001b[38;5;241m10\u001b[39m)\n",
      "\u001b[0;31mNameError\u001b[0m: name 'cleaned2' is not defined"
     ]
    }
   ],
   "source": [
    "Reviewdata['cleaned_ShortReview'] = pd.DataFrame(Reviewdata.ShortReview.apply(cleaned2))\n",
    "Reviewdata.head(10)"
   ]
  },
  {
   "cell_type": "code",
   "execution_count": 20,
   "id": "3093fca2",
   "metadata": {},
   "outputs": [
    {
     "data": {
      "text/html": [
       "<div>\n",
       "<style scoped>\n",
       "    .dataframe tbody tr th:only-of-type {\n",
       "        vertical-align: middle;\n",
       "    }\n",
       "\n",
       "    .dataframe tbody tr th {\n",
       "        vertical-align: top;\n",
       "    }\n",
       "\n",
       "    .dataframe thead th {\n",
       "        text-align: right;\n",
       "    }\n",
       "</style>\n",
       "<table border=\"1\" class=\"dataframe\">\n",
       "  <thead>\n",
       "    <tr style=\"text-align: right;\">\n",
       "      <th></th>\n",
       "      <th>Stars</th>\n",
       "      <th>ShortReview</th>\n",
       "      <th>Review</th>\n",
       "      <th>cleaned_Reviews</th>\n",
       "    </tr>\n",
       "  </thead>\n",
       "  <tbody>\n",
       "    <tr>\n",
       "      <th>0</th>\n",
       "      <td>5</td>\n",
       "      <td>fab</td>\n",
       "      <td>best ever place to go in the region. i recomme...</td>\n",
       "      <td>best ever place to go in the region i recommen...</td>\n",
       "    </tr>\n",
       "    <tr>\n",
       "      <th>1</th>\n",
       "      <td>4</td>\n",
       "      <td>Winter holiday</td>\n",
       "      <td>We stayed at this hotel for 17 days in January...</td>\n",
       "      <td>we stayed at this hotel for  days in january o...</td>\n",
       "    </tr>\n",
       "    <tr>\n",
       "      <th>2</th>\n",
       "      <td>5</td>\n",
       "      <td>Lovely winter sun holiday at a great hotel</td>\n",
       "      <td>We have just returned from Founty beach. We ha...</td>\n",
       "      <td>we have just returned from founty beach we had...</td>\n",
       "    </tr>\n",
       "    <tr>\n",
       "      <th>3</th>\n",
       "      <td>5</td>\n",
       "      <td>Great hotel and amazing staff</td>\n",
       "      <td>This is my third holiday in Agadir and I have ...</td>\n",
       "      <td>this is my third holiday in agadir and i have ...</td>\n",
       "    </tr>\n",
       "    <tr>\n",
       "      <th>4</th>\n",
       "      <td>5</td>\n",
       "      <td>In love with this Hotel!</td>\n",
       "      <td>Just back from a week stay for the New Year at...</td>\n",
       "      <td>just back from a week stay for the new year at...</td>\n",
       "    </tr>\n",
       "  </tbody>\n",
       "</table>\n",
       "</div>"
      ],
      "text/plain": [
       "   Stars                                 ShortReview  \\\n",
       "0      5                                         fab   \n",
       "1      4                              Winter holiday   \n",
       "2      5  Lovely winter sun holiday at a great hotel   \n",
       "3      5               Great hotel and amazing staff   \n",
       "4      5                    In love with this Hotel!   \n",
       "\n",
       "                                              Review  \\\n",
       "0  best ever place to go in the region. i recomme...   \n",
       "1  We stayed at this hotel for 17 days in January...   \n",
       "2  We have just returned from Founty beach. We ha...   \n",
       "3  This is my third holiday in Agadir and I have ...   \n",
       "4  Just back from a week stay for the New Year at...   \n",
       "\n",
       "                                     cleaned_Reviews  \n",
       "0  best ever place to go in the region i recommen...  \n",
       "1  we stayed at this hotel for  days in january o...  \n",
       "2  we have just returned from founty beach we had...  \n",
       "3  this is my third holiday in agadir and i have ...  \n",
       "4  just back from a week stay for the new year at...  "
      ]
     },
     "execution_count": 20,
     "metadata": {},
     "output_type": "execute_result"
    }
   ],
   "source": [
    "Reviewdata.head()"
   ]
  },
  {
   "cell_type": "code",
   "execution_count": 21,
   "id": "86809ea1",
   "metadata": {},
   "outputs": [],
   "source": [
    "# Apply a second round of cleaning\n",
    "def text_clean_2(text):\n",
    "    text = re.sub('[‘’“”…]', '', text)\n",
    "    text = re.sub('\\n', '', text)\n",
    "    return text\n",
    "\n",
    "cleaned2 = lambda x: text_clean_2(x)"
   ]
  },
  {
   "cell_type": "code",
   "execution_count": 22,
   "id": "b0cad3ea",
   "metadata": {},
   "outputs": [
    {
     "data": {
      "text/html": [
       "<div>\n",
       "<style scoped>\n",
       "    .dataframe tbody tr th:only-of-type {\n",
       "        vertical-align: middle;\n",
       "    }\n",
       "\n",
       "    .dataframe tbody tr th {\n",
       "        vertical-align: top;\n",
       "    }\n",
       "\n",
       "    .dataframe thead th {\n",
       "        text-align: right;\n",
       "    }\n",
       "</style>\n",
       "<table border=\"1\" class=\"dataframe\">\n",
       "  <thead>\n",
       "    <tr style=\"text-align: right;\">\n",
       "      <th></th>\n",
       "      <th>Stars</th>\n",
       "      <th>ShortReview</th>\n",
       "      <th>Review</th>\n",
       "      <th>cleaned_Reviews</th>\n",
       "      <th>Cleaned_R</th>\n",
       "    </tr>\n",
       "  </thead>\n",
       "  <tbody>\n",
       "    <tr>\n",
       "      <th>0</th>\n",
       "      <td>5</td>\n",
       "      <td>fab</td>\n",
       "      <td>best ever place to go in the region. i recomme...</td>\n",
       "      <td>best ever place to go in the region i recommen...</td>\n",
       "      <td>best ever place to go in the region i recommen...</td>\n",
       "    </tr>\n",
       "    <tr>\n",
       "      <th>1</th>\n",
       "      <td>4</td>\n",
       "      <td>Winter holiday</td>\n",
       "      <td>We stayed at this hotel for 17 days in January...</td>\n",
       "      <td>we stayed at this hotel for  days in january o...</td>\n",
       "      <td>we stayed at this hotel for  days in january o...</td>\n",
       "    </tr>\n",
       "    <tr>\n",
       "      <th>2</th>\n",
       "      <td>5</td>\n",
       "      <td>Lovely winter sun holiday at a great hotel</td>\n",
       "      <td>We have just returned from Founty beach. We ha...</td>\n",
       "      <td>we have just returned from founty beach we had...</td>\n",
       "      <td>we have just returned from founty beach we had...</td>\n",
       "    </tr>\n",
       "    <tr>\n",
       "      <th>3</th>\n",
       "      <td>5</td>\n",
       "      <td>Great hotel and amazing staff</td>\n",
       "      <td>This is my third holiday in Agadir and I have ...</td>\n",
       "      <td>this is my third holiday in agadir and i have ...</td>\n",
       "      <td>this is my third holiday in agadir and i have ...</td>\n",
       "    </tr>\n",
       "    <tr>\n",
       "      <th>4</th>\n",
       "      <td>5</td>\n",
       "      <td>In love with this Hotel!</td>\n",
       "      <td>Just back from a week stay for the New Year at...</td>\n",
       "      <td>just back from a week stay for the new year at...</td>\n",
       "      <td>just back from a week stay for the new year at...</td>\n",
       "    </tr>\n",
       "    <tr>\n",
       "      <th>5</th>\n",
       "      <td>5</td>\n",
       "      <td>Great hotel great staff</td>\n",
       "      <td>We are just coming to the end of our week holi...</td>\n",
       "      <td>we are just coming to the end of our week holi...</td>\n",
       "      <td>we are just coming to the end of our week holi...</td>\n",
       "    </tr>\n",
       "    <tr>\n",
       "      <th>6</th>\n",
       "      <td>5</td>\n",
       "      <td>Best staff</td>\n",
       "      <td>Went to stay in this hotel for a week for a re...</td>\n",
       "      <td>went to stay in this hotel for a week for a re...</td>\n",
       "      <td>went to stay in this hotel for a week for a re...</td>\n",
       "    </tr>\n",
       "    <tr>\n",
       "      <th>7</th>\n",
       "      <td>5</td>\n",
       "      <td>Holiday</td>\n",
       "      <td>We had a wonderful time at this hotel. Food wa...</td>\n",
       "      <td>we had a wonderful time at this hotel food was...</td>\n",
       "      <td>we had a wonderful time at this hotel food was...</td>\n",
       "    </tr>\n",
       "    <tr>\n",
       "      <th>8</th>\n",
       "      <td>5</td>\n",
       "      <td>Friendly Staff, Lots to do!</td>\n",
       "      <td>I enjoyed my stay here last year in June. The ...</td>\n",
       "      <td>i enjoyed my stay here last year in june the f...</td>\n",
       "      <td>i enjoyed my stay here last year in june the f...</td>\n",
       "    </tr>\n",
       "    <tr>\n",
       "      <th>9</th>\n",
       "      <td>5</td>\n",
       "      <td>Holiday</td>\n",
       "      <td>Had the most amazing holiday at Iberostar Foun...</td>\n",
       "      <td>had the most amazing holiday at iberostar foun...</td>\n",
       "      <td>had the most amazing holiday at iberostar foun...</td>\n",
       "    </tr>\n",
       "  </tbody>\n",
       "</table>\n",
       "</div>"
      ],
      "text/plain": [
       "   Stars                                 ShortReview  \\\n",
       "0      5                                         fab   \n",
       "1      4                              Winter holiday   \n",
       "2      5  Lovely winter sun holiday at a great hotel   \n",
       "3      5               Great hotel and amazing staff   \n",
       "4      5                    In love with this Hotel!   \n",
       "5      5                     Great hotel great staff   \n",
       "6      5                                  Best staff   \n",
       "7      5                                     Holiday   \n",
       "8      5                 Friendly Staff, Lots to do!   \n",
       "9      5                                     Holiday   \n",
       "\n",
       "                                              Review  \\\n",
       "0  best ever place to go in the region. i recomme...   \n",
       "1  We stayed at this hotel for 17 days in January...   \n",
       "2  We have just returned from Founty beach. We ha...   \n",
       "3  This is my third holiday in Agadir and I have ...   \n",
       "4  Just back from a week stay for the New Year at...   \n",
       "5  We are just coming to the end of our week holi...   \n",
       "6  Went to stay in this hotel for a week for a re...   \n",
       "7  We had a wonderful time at this hotel. Food wa...   \n",
       "8  I enjoyed my stay here last year in June. The ...   \n",
       "9  Had the most amazing holiday at Iberostar Foun...   \n",
       "\n",
       "                                     cleaned_Reviews  \\\n",
       "0  best ever place to go in the region i recommen...   \n",
       "1  we stayed at this hotel for  days in january o...   \n",
       "2  we have just returned from founty beach we had...   \n",
       "3  this is my third holiday in agadir and i have ...   \n",
       "4  just back from a week stay for the new year at...   \n",
       "5  we are just coming to the end of our week holi...   \n",
       "6  went to stay in this hotel for a week for a re...   \n",
       "7  we had a wonderful time at this hotel food was...   \n",
       "8  i enjoyed my stay here last year in june the f...   \n",
       "9  had the most amazing holiday at iberostar foun...   \n",
       "\n",
       "                                           Cleaned_R  \n",
       "0  best ever place to go in the region i recommen...  \n",
       "1  we stayed at this hotel for  days in january o...  \n",
       "2  we have just returned from founty beach we had...  \n",
       "3  this is my third holiday in agadir and i have ...  \n",
       "4  just back from a week stay for the new year at...  \n",
       "5  we are just coming to the end of our week holi...  \n",
       "6  went to stay in this hotel for a week for a re...  \n",
       "7  we had a wonderful time at this hotel food was...  \n",
       "8  i enjoyed my stay here last year in june the f...  \n",
       "9  had the most amazing holiday at iberostar foun...  "
      ]
     },
     "execution_count": 22,
     "metadata": {},
     "output_type": "execute_result"
    }
   ],
   "source": [
    "# Let's take a look at the updated text\n",
    "Reviewdata['Cleaned_R'] = pd.DataFrame(Reviewdata['cleaned_Reviews'].apply(cleaned2))\n",
    "Reviewdata.head(10)"
   ]
  },
  {
   "cell_type": "code",
   "execution_count": 23,
   "id": "8379a504",
   "metadata": {},
   "outputs": [
    {
     "name": "stdout",
     "output_type": "stream",
     "text": [
      "IV_train : 27623\n",
      "IV_test  : 3070\n",
      "DV_train : 27623\n",
      "DV_test  : 3070\n"
     ]
    }
   ],
   "source": [
    "from sklearn.model_selection import train_test_split\n",
    "\n",
    "Independent_var = Reviewdata.Cleaned_R\n",
    "Dependent_var = Reviewdata.Stars\n",
    "\n",
    "IV_train, IV_test, DV_train, DV_test = train_test_split(Independent_var, Dependent_var, test_size = 0.1, random_state = 225)\n",
    "\n",
    "print('IV_train :', len(IV_train))\n",
    "print('IV_test  :', len(IV_test))\n",
    "print('DV_train :', len(DV_train))\n",
    "print('DV_test  :', len(DV_test))"
   ]
  },
  {
   "cell_type": "code",
   "execution_count": 24,
   "id": "6ebf2a33",
   "metadata": {},
   "outputs": [],
   "source": [
    "from sklearn.feature_extraction.text import TfidfVectorizer\n",
    "from sklearn.linear_model import LogisticRegression\n",
    "\n",
    "tvec = TfidfVectorizer()\n",
    "clf2 = LogisticRegression(solver = \"lbfgs\")\n",
    "\n",
    "\n",
    "from sklearn.pipeline import Pipeline"
   ]
  },
  {
   "cell_type": "code",
   "execution_count": 25,
   "id": "47c885b4",
   "metadata": {},
   "outputs": [
    {
     "data": {
      "text/plain": [
       "array([[  35,   12,    4,    2,    2],\n",
       "       [   6,    9,    3,    3,    0],\n",
       "       [  26,   43,   91,   23,   10],\n",
       "       [   9,   18,  113,  241,  115],\n",
       "       [  19,   16,   49,  342, 1879]])"
      ]
     },
     "execution_count": 25,
     "metadata": {},
     "output_type": "execute_result"
    }
   ],
   "source": [
    "model = Pipeline([('vectorizer',tvec),('classifier',clf2)])\n",
    "\n",
    "model.fit(IV_train, DV_train)\n",
    "\n",
    "\n",
    "from sklearn.metrics import confusion_matrix\n",
    "\n",
    "predictions = model.predict(IV_test)\n",
    "\n",
    "confusion_matrix(predictions, DV_test)"
   ]
  },
  {
   "cell_type": "code",
   "execution_count": 26,
   "id": "532b6cc4",
   "metadata": {},
   "outputs": [
    {
     "name": "stdout",
     "output_type": "stream",
     "text": [
      "Accuracy :  0.7345276872964169\n",
      "Precision :  0.7962384211692058\n",
      "Recall :  0.7345276872964169\n"
     ]
    }
   ],
   "source": [
    "from sklearn.metrics import accuracy_score, precision_score, recall_score\n",
    "\n",
    "print(\"Accuracy : \", accuracy_score(predictions, DV_test))\n",
    "print(\"Precision : \", precision_score(predictions, DV_test, average = 'weighted'))\n",
    "print(\"Recall : \", recall_score(predictions, DV_test, average = 'weighted'))"
   ]
  },
  {
   "cell_type": "code",
   "execution_count": 34,
   "id": "aa53cbc4",
   "metadata": {},
   "outputs": [
    {
     "name": "stdout",
     "output_type": "stream",
     "text": [
      "[5]\n"
     ]
    }
   ],
   "source": [
    "exemple = [\"In love \"]\n",
    "result = model.predict(exemple)\n",
    "print(result)"
   ]
  }
 ],
 "metadata": {
  "kernelspec": {
   "display_name": "Python 3 (ipykernel)",
   "language": "python",
   "name": "python3"
  },
  "language_info": {
   "codemirror_mode": {
    "name": "ipython",
    "version": 3
   },
   "file_extension": ".py",
   "mimetype": "text/x-python",
   "name": "python",
   "nbconvert_exporter": "python",
   "pygments_lexer": "ipython3",
   "version": "3.11.1"
  }
 },
 "nbformat": 4,
 "nbformat_minor": 5
}
